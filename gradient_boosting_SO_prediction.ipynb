{
 "cells": [
  {
   "cell_type": "markdown",
   "metadata": {},
   "source": [
    "# Gradient Boosting Significant Others - with XGBoost"
   ]
  },
  {
   "cell_type": "markdown",
   "metadata": {},
   "source": [
    "Using European survey data to predict whether participants have a significant other or not."
   ]
  },
  {
   "cell_type": "markdown",
   "metadata": {},
   "source": [
    "## Imports"
   ]
  },
  {
   "cell_type": "code",
   "execution_count": 1,
   "metadata": {},
   "outputs": [],
   "source": [
    "import itertools\n",
    "import pandas as pd\n",
    "import numpy as np\n",
    "import matplotlib.pyplot as plt\n",
    "%matplotlib inline\n",
    "\n",
    "import timeit\n",
    "from datetime import datetime\n",
    "\n",
    "from sklearn.metrics import confusion_matrix, precision_score, recall_score\n",
    "from sklearn import metrics\n",
    "from sklearn import ensemble"
   ]
  },
  {
   "cell_type": "code",
   "execution_count": 2,
   "metadata": {},
   "outputs": [],
   "source": [
    "df = pd.read_csv((\n",
    "    \"https://raw.githubusercontent.com/Thinkful-Ed/data-201-resources/\"\n",
    "    \"master/ESS_practice_data/ESSdata_Thinkful.csv\")).dropna()\n",
    "\n",
    "# Definine outcome and predictors.\n",
    "# Set our outcome to 0 and 1.\n",
    "Y = df['partner'] - 1\n",
    "X = df.loc[:, ~df.columns.isin(['partner', 'cntry', 'idno'])]\n",
    "\n",
    "# Make the categorical variable 'country' into dummies.\n",
    "X = pd.concat([X, pd.get_dummies(df['cntry'], drop_first=True)], axis=1)"
   ]
  },
  {
   "cell_type": "markdown",
   "metadata": {},
   "source": [
    "## Understanding the Data"
   ]
  },
  {
   "cell_type": "code",
   "execution_count": 3,
   "metadata": {},
   "outputs": [
    {
     "name": "stdout",
     "output_type": "stream",
     "text": [
      "<class 'pandas.core.frame.DataFrame'>\n",
      "Int64Index: 8147 entries, 0 to 8593\n",
      "Data columns (total 15 columns):\n",
      " #   Column   Non-Null Count  Dtype  \n",
      "---  ------   --------------  -----  \n",
      " 0   year     8147 non-null   int64  \n",
      " 1   tvtot    8147 non-null   float64\n",
      " 2   ppltrst  8147 non-null   float64\n",
      " 3   pplfair  8147 non-null   float64\n",
      " 4   pplhlp   8147 non-null   float64\n",
      " 5   happy    8147 non-null   float64\n",
      " 6   sclmeet  8147 non-null   float64\n",
      " 7   sclact   8147 non-null   float64\n",
      " 8   gndr     8147 non-null   float64\n",
      " 9   agea     8147 non-null   float64\n",
      " 10  CZ       8147 non-null   uint8  \n",
      " 11  DE       8147 non-null   uint8  \n",
      " 12  ES       8147 non-null   uint8  \n",
      " 13  NO       8147 non-null   uint8  \n",
      " 14  SE       8147 non-null   uint8  \n",
      "dtypes: float64(9), int64(1), uint8(5)\n",
      "memory usage: 739.9 KB\n"
     ]
    }
   ],
   "source": [
    "X.info()"
   ]
  },
  {
   "cell_type": "code",
   "execution_count": 4,
   "metadata": {},
   "outputs": [
    {
     "data": {
      "text/html": [
       "<div>\n",
       "<style scoped>\n",
       "    .dataframe tbody tr th:only-of-type {\n",
       "        vertical-align: middle;\n",
       "    }\n",
       "\n",
       "    .dataframe tbody tr th {\n",
       "        vertical-align: top;\n",
       "    }\n",
       "\n",
       "    .dataframe thead th {\n",
       "        text-align: right;\n",
       "    }\n",
       "</style>\n",
       "<table border=\"1\" class=\"dataframe\">\n",
       "  <thead>\n",
       "    <tr style=\"text-align: right;\">\n",
       "      <th></th>\n",
       "      <th>year</th>\n",
       "      <th>tvtot</th>\n",
       "      <th>ppltrst</th>\n",
       "      <th>pplfair</th>\n",
       "      <th>pplhlp</th>\n",
       "      <th>happy</th>\n",
       "      <th>sclmeet</th>\n",
       "      <th>sclact</th>\n",
       "      <th>gndr</th>\n",
       "      <th>agea</th>\n",
       "      <th>CZ</th>\n",
       "      <th>DE</th>\n",
       "      <th>ES</th>\n",
       "      <th>NO</th>\n",
       "      <th>SE</th>\n",
       "    </tr>\n",
       "  </thead>\n",
       "  <tbody>\n",
       "    <tr>\n",
       "      <th>count</th>\n",
       "      <td>8147.000000</td>\n",
       "      <td>8147.000000</td>\n",
       "      <td>8147.000000</td>\n",
       "      <td>8147.000000</td>\n",
       "      <td>8147.000000</td>\n",
       "      <td>8147.000000</td>\n",
       "      <td>8147.000000</td>\n",
       "      <td>8147.000000</td>\n",
       "      <td>8147.000000</td>\n",
       "      <td>8147.000000</td>\n",
       "      <td>8147.000000</td>\n",
       "      <td>8147.000000</td>\n",
       "      <td>8147.000000</td>\n",
       "      <td>8147.000000</td>\n",
       "      <td>8147.000000</td>\n",
       "    </tr>\n",
       "    <tr>\n",
       "      <th>mean</th>\n",
       "      <td>6.500307</td>\n",
       "      <td>3.818584</td>\n",
       "      <td>5.574936</td>\n",
       "      <td>6.005155</td>\n",
       "      <td>5.321468</td>\n",
       "      <td>7.708482</td>\n",
       "      <td>5.215908</td>\n",
       "      <td>2.755984</td>\n",
       "      <td>1.496379</td>\n",
       "      <td>47.262182</td>\n",
       "      <td>0.148153</td>\n",
       "      <td>0.003314</td>\n",
       "      <td>0.281331</td>\n",
       "      <td>0.174297</td>\n",
       "      <td>0.211857</td>\n",
       "    </tr>\n",
       "    <tr>\n",
       "      <th>std</th>\n",
       "      <td>0.500031</td>\n",
       "      <td>2.008937</td>\n",
       "      <td>2.215745</td>\n",
       "      <td>2.120127</td>\n",
       "      <td>2.166217</td>\n",
       "      <td>1.720839</td>\n",
       "      <td>1.438792</td>\n",
       "      <td>0.901406</td>\n",
       "      <td>0.500018</td>\n",
       "      <td>18.316890</td>\n",
       "      <td>0.355273</td>\n",
       "      <td>0.057476</td>\n",
       "      <td>0.449676</td>\n",
       "      <td>0.379388</td>\n",
       "      <td>0.408649</td>\n",
       "    </tr>\n",
       "    <tr>\n",
       "      <th>min</th>\n",
       "      <td>6.000000</td>\n",
       "      <td>0.000000</td>\n",
       "      <td>0.000000</td>\n",
       "      <td>0.000000</td>\n",
       "      <td>0.000000</td>\n",
       "      <td>0.000000</td>\n",
       "      <td>1.000000</td>\n",
       "      <td>1.000000</td>\n",
       "      <td>1.000000</td>\n",
       "      <td>15.000000</td>\n",
       "      <td>0.000000</td>\n",
       "      <td>0.000000</td>\n",
       "      <td>0.000000</td>\n",
       "      <td>0.000000</td>\n",
       "      <td>0.000000</td>\n",
       "    </tr>\n",
       "    <tr>\n",
       "      <th>25%</th>\n",
       "      <td>6.000000</td>\n",
       "      <td>2.000000</td>\n",
       "      <td>4.000000</td>\n",
       "      <td>5.000000</td>\n",
       "      <td>4.000000</td>\n",
       "      <td>7.000000</td>\n",
       "      <td>4.000000</td>\n",
       "      <td>2.000000</td>\n",
       "      <td>1.000000</td>\n",
       "      <td>33.000000</td>\n",
       "      <td>0.000000</td>\n",
       "      <td>0.000000</td>\n",
       "      <td>0.000000</td>\n",
       "      <td>0.000000</td>\n",
       "      <td>0.000000</td>\n",
       "    </tr>\n",
       "    <tr>\n",
       "      <th>50%</th>\n",
       "      <td>7.000000</td>\n",
       "      <td>4.000000</td>\n",
       "      <td>6.000000</td>\n",
       "      <td>6.000000</td>\n",
       "      <td>5.000000</td>\n",
       "      <td>8.000000</td>\n",
       "      <td>6.000000</td>\n",
       "      <td>3.000000</td>\n",
       "      <td>1.000000</td>\n",
       "      <td>47.000000</td>\n",
       "      <td>0.000000</td>\n",
       "      <td>0.000000</td>\n",
       "      <td>0.000000</td>\n",
       "      <td>0.000000</td>\n",
       "      <td>0.000000</td>\n",
       "    </tr>\n",
       "    <tr>\n",
       "      <th>75%</th>\n",
       "      <td>7.000000</td>\n",
       "      <td>5.000000</td>\n",
       "      <td>7.000000</td>\n",
       "      <td>8.000000</td>\n",
       "      <td>7.000000</td>\n",
       "      <td>9.000000</td>\n",
       "      <td>6.000000</td>\n",
       "      <td>3.000000</td>\n",
       "      <td>2.000000</td>\n",
       "      <td>61.000000</td>\n",
       "      <td>0.000000</td>\n",
       "      <td>0.000000</td>\n",
       "      <td>1.000000</td>\n",
       "      <td>0.000000</td>\n",
       "      <td>0.000000</td>\n",
       "    </tr>\n",
       "    <tr>\n",
       "      <th>max</th>\n",
       "      <td>7.000000</td>\n",
       "      <td>7.000000</td>\n",
       "      <td>10.000000</td>\n",
       "      <td>10.000000</td>\n",
       "      <td>10.000000</td>\n",
       "      <td>10.000000</td>\n",
       "      <td>7.000000</td>\n",
       "      <td>5.000000</td>\n",
       "      <td>2.000000</td>\n",
       "      <td>114.000000</td>\n",
       "      <td>1.000000</td>\n",
       "      <td>1.000000</td>\n",
       "      <td>1.000000</td>\n",
       "      <td>1.000000</td>\n",
       "      <td>1.000000</td>\n",
       "    </tr>\n",
       "  </tbody>\n",
       "</table>\n",
       "</div>"
      ],
      "text/plain": [
       "              year        tvtot      ppltrst      pplfair       pplhlp  \\\n",
       "count  8147.000000  8147.000000  8147.000000  8147.000000  8147.000000   \n",
       "mean      6.500307     3.818584     5.574936     6.005155     5.321468   \n",
       "std       0.500031     2.008937     2.215745     2.120127     2.166217   \n",
       "min       6.000000     0.000000     0.000000     0.000000     0.000000   \n",
       "25%       6.000000     2.000000     4.000000     5.000000     4.000000   \n",
       "50%       7.000000     4.000000     6.000000     6.000000     5.000000   \n",
       "75%       7.000000     5.000000     7.000000     8.000000     7.000000   \n",
       "max       7.000000     7.000000    10.000000    10.000000    10.000000   \n",
       "\n",
       "             happy      sclmeet       sclact         gndr         agea  \\\n",
       "count  8147.000000  8147.000000  8147.000000  8147.000000  8147.000000   \n",
       "mean      7.708482     5.215908     2.755984     1.496379    47.262182   \n",
       "std       1.720839     1.438792     0.901406     0.500018    18.316890   \n",
       "min       0.000000     1.000000     1.000000     1.000000    15.000000   \n",
       "25%       7.000000     4.000000     2.000000     1.000000    33.000000   \n",
       "50%       8.000000     6.000000     3.000000     1.000000    47.000000   \n",
       "75%       9.000000     6.000000     3.000000     2.000000    61.000000   \n",
       "max      10.000000     7.000000     5.000000     2.000000   114.000000   \n",
       "\n",
       "                CZ           DE           ES           NO           SE  \n",
       "count  8147.000000  8147.000000  8147.000000  8147.000000  8147.000000  \n",
       "mean      0.148153     0.003314     0.281331     0.174297     0.211857  \n",
       "std       0.355273     0.057476     0.449676     0.379388     0.408649  \n",
       "min       0.000000     0.000000     0.000000     0.000000     0.000000  \n",
       "25%       0.000000     0.000000     0.000000     0.000000     0.000000  \n",
       "50%       0.000000     0.000000     0.000000     0.000000     0.000000  \n",
       "75%       0.000000     0.000000     1.000000     0.000000     0.000000  \n",
       "max       1.000000     1.000000     1.000000     1.000000     1.000000  "
      ]
     },
     "execution_count": 4,
     "metadata": {},
     "output_type": "execute_result"
    }
   ],
   "source": [
    "X.describe()"
   ]
  },
  {
   "cell_type": "code",
   "execution_count": 5,
   "metadata": {},
   "outputs": [
    {
     "data": {
      "text/html": [
       "<div>\n",
       "<style scoped>\n",
       "    .dataframe tbody tr th:only-of-type {\n",
       "        vertical-align: middle;\n",
       "    }\n",
       "\n",
       "    .dataframe tbody tr th {\n",
       "        vertical-align: top;\n",
       "    }\n",
       "\n",
       "    .dataframe thead th {\n",
       "        text-align: right;\n",
       "    }\n",
       "</style>\n",
       "<table border=\"1\" class=\"dataframe\">\n",
       "  <thead>\n",
       "    <tr style=\"text-align: right;\">\n",
       "      <th></th>\n",
       "      <th>year</th>\n",
       "      <th>tvtot</th>\n",
       "      <th>ppltrst</th>\n",
       "      <th>pplfair</th>\n",
       "      <th>pplhlp</th>\n",
       "      <th>happy</th>\n",
       "      <th>sclmeet</th>\n",
       "      <th>sclact</th>\n",
       "      <th>gndr</th>\n",
       "      <th>agea</th>\n",
       "      <th>CZ</th>\n",
       "      <th>DE</th>\n",
       "      <th>ES</th>\n",
       "      <th>NO</th>\n",
       "      <th>SE</th>\n",
       "    </tr>\n",
       "  </thead>\n",
       "  <tbody>\n",
       "    <tr>\n",
       "      <th>0</th>\n",
       "      <td>6</td>\n",
       "      <td>3.0</td>\n",
       "      <td>3.0</td>\n",
       "      <td>10.0</td>\n",
       "      <td>5.0</td>\n",
       "      <td>8.0</td>\n",
       "      <td>5.0</td>\n",
       "      <td>4.0</td>\n",
       "      <td>2.0</td>\n",
       "      <td>60.0</td>\n",
       "      <td>0</td>\n",
       "      <td>0</td>\n",
       "      <td>0</td>\n",
       "      <td>0</td>\n",
       "      <td>0</td>\n",
       "    </tr>\n",
       "    <tr>\n",
       "      <th>1</th>\n",
       "      <td>6</td>\n",
       "      <td>6.0</td>\n",
       "      <td>5.0</td>\n",
       "      <td>7.0</td>\n",
       "      <td>5.0</td>\n",
       "      <td>9.0</td>\n",
       "      <td>3.0</td>\n",
       "      <td>2.0</td>\n",
       "      <td>2.0</td>\n",
       "      <td>59.0</td>\n",
       "      <td>0</td>\n",
       "      <td>0</td>\n",
       "      <td>0</td>\n",
       "      <td>0</td>\n",
       "      <td>0</td>\n",
       "    </tr>\n",
       "    <tr>\n",
       "      <th>2</th>\n",
       "      <td>6</td>\n",
       "      <td>1.0</td>\n",
       "      <td>8.0</td>\n",
       "      <td>8.0</td>\n",
       "      <td>8.0</td>\n",
       "      <td>7.0</td>\n",
       "      <td>6.0</td>\n",
       "      <td>3.0</td>\n",
       "      <td>1.0</td>\n",
       "      <td>24.0</td>\n",
       "      <td>0</td>\n",
       "      <td>0</td>\n",
       "      <td>0</td>\n",
       "      <td>0</td>\n",
       "      <td>0</td>\n",
       "    </tr>\n",
       "    <tr>\n",
       "      <th>3</th>\n",
       "      <td>6</td>\n",
       "      <td>4.0</td>\n",
       "      <td>6.0</td>\n",
       "      <td>6.0</td>\n",
       "      <td>7.0</td>\n",
       "      <td>10.0</td>\n",
       "      <td>6.0</td>\n",
       "      <td>2.0</td>\n",
       "      <td>2.0</td>\n",
       "      <td>64.0</td>\n",
       "      <td>0</td>\n",
       "      <td>0</td>\n",
       "      <td>0</td>\n",
       "      <td>0</td>\n",
       "      <td>0</td>\n",
       "    </tr>\n",
       "    <tr>\n",
       "      <th>4</th>\n",
       "      <td>6</td>\n",
       "      <td>5.0</td>\n",
       "      <td>6.0</td>\n",
       "      <td>7.0</td>\n",
       "      <td>5.0</td>\n",
       "      <td>8.0</td>\n",
       "      <td>7.0</td>\n",
       "      <td>2.0</td>\n",
       "      <td>2.0</td>\n",
       "      <td>55.0</td>\n",
       "      <td>0</td>\n",
       "      <td>0</td>\n",
       "      <td>0</td>\n",
       "      <td>0</td>\n",
       "      <td>0</td>\n",
       "    </tr>\n",
       "  </tbody>\n",
       "</table>\n",
       "</div>"
      ],
      "text/plain": [
       "   year  tvtot  ppltrst  pplfair  pplhlp  happy  sclmeet  sclact  gndr  agea  \\\n",
       "0     6    3.0      3.0     10.0     5.0    8.0      5.0     4.0   2.0  60.0   \n",
       "1     6    6.0      5.0      7.0     5.0    9.0      3.0     2.0   2.0  59.0   \n",
       "2     6    1.0      8.0      8.0     8.0    7.0      6.0     3.0   1.0  24.0   \n",
       "3     6    4.0      6.0      6.0     7.0   10.0      6.0     2.0   2.0  64.0   \n",
       "4     6    5.0      6.0      7.0     5.0    8.0      7.0     2.0   2.0  55.0   \n",
       "\n",
       "   CZ  DE  ES  NO  SE  \n",
       "0   0   0   0   0   0  \n",
       "1   0   0   0   0   0  \n",
       "2   0   0   0   0   0  \n",
       "3   0   0   0   0   0  \n",
       "4   0   0   0   0   0  "
      ]
     },
     "execution_count": 5,
     "metadata": {},
     "output_type": "execute_result"
    }
   ],
   "source": [
    "X.head()"
   ]
  },
  {
   "cell_type": "code",
   "execution_count": 6,
   "metadata": {},
   "outputs": [
    {
     "data": {
      "text/plain": [
       "ES    2292\n",
       "SE    1726\n",
       "CH    1475\n",
       "NO    1420\n",
       "CZ    1207\n",
       "DE      27\n",
       "Name: cntry, dtype: int64"
      ]
     },
     "execution_count": 6,
     "metadata": {},
     "output_type": "execute_result"
    }
   ],
   "source": [
    "df['cntry'].value_counts()"
   ]
  },
  {
   "cell_type": "code",
   "execution_count": 7,
   "metadata": {},
   "outputs": [],
   "source": [
    "# Turning gender variable into binary\n",
    "X['gndr'] = X['gndr'] -1"
   ]
  },
  {
   "cell_type": "code",
   "execution_count": 8,
   "metadata": {},
   "outputs": [],
   "source": [
    "# Dropping year because it makes little intuitive impact on our outcome\n",
    "\n",
    "X = X.drop('year', axis=1)"
   ]
  },
  {
   "cell_type": "code",
   "execution_count": 9,
   "metadata": {},
   "outputs": [
    {
     "data": {
      "text/plain": [
       "(8147, 14)"
      ]
     },
     "execution_count": 9,
     "metadata": {},
     "output_type": "execute_result"
    }
   ],
   "source": [
    "X.shape"
   ]
  },
  {
   "cell_type": "code",
   "execution_count": 10,
   "metadata": {},
   "outputs": [
    {
     "data": {
      "text/plain": [
       "tvtot      0\n",
       "ppltrst    0\n",
       "pplfair    0\n",
       "pplhlp     0\n",
       "happy      0\n",
       "sclmeet    0\n",
       "sclact     0\n",
       "gndr       0\n",
       "agea       0\n",
       "CZ         0\n",
       "DE         0\n",
       "ES         0\n",
       "NO         0\n",
       "SE         0\n",
       "dtype: int64"
      ]
     },
     "execution_count": 10,
     "metadata": {},
     "output_type": "execute_result"
    }
   ],
   "source": [
    "X.isnull().sum()"
   ]
  },
  {
   "cell_type": "markdown",
   "metadata": {},
   "source": [
    "### DRILL: Tune a gradient boosting model\n",
    "\n",
    "How low can I get the error rates to go in the test set, based on my model in the training set? I can try:\n",
    "\n",
    "* Creating new features\n",
    "* Applying more overfitting-prevention strategies like subsampling\n",
    "* More iterations\n",
    "* Trying a different loss function\n",
    "* Changing the structure of the weak learner: Allowing more leaves in the tree, or other modifications\n",
    "\n",
    "A few parameters to tune could be:\n",
    " - learning_rate\n",
    " - max_depth\n",
    " - n_estimators\n",
    " - loss\n",
    " - subsample\n",
    " - min_samples_split\n"
   ]
  },
  {
   "cell_type": "markdown",
   "metadata": {},
   "source": [
    "## Modeling Phase"
   ]
  },
  {
   "cell_type": "code",
   "execution_count": 11,
   "metadata": {},
   "outputs": [
    {
     "name": "stderr",
     "output_type": "stream",
     "text": [
      "C:\\Users\\sebar\\Anaconda3\\lib\\site-packages\\dask\\dataframe\\utils.py:15: FutureWarning: pandas.util.testing is deprecated. Use the functions in the public API at pandas.testing instead.\n",
      "  import pandas.util.testing as tm\n"
     ]
    },
    {
     "data": {
      "text/plain": [
       "XGBClassifier(base_score=None, booster=None, colsample_bylevel=None,\n",
       "              colsample_bynode=None, colsample_bytree=None, gamma=None,\n",
       "              gpu_id=None, importance_type='gain', interaction_constraints=None,\n",
       "              learning_rate=None, max_delta_step=None, max_depth=None,\n",
       "              min_child_weight=None, missing=nan, monotone_constraints=None,\n",
       "              n_estimators=100, n_jobs=None, num_parallel_tree=None,\n",
       "              objective='binary:logistic', random_state=None, reg_alpha=None,\n",
       "              reg_lambda=None, scale_pos_weight=None, subsample=None,\n",
       "              tree_method=None, validate_parameters=False, verbosity=None)"
      ]
     },
     "execution_count": 11,
     "metadata": {},
     "output_type": "execute_result"
    }
   ],
   "source": [
    "import xgboost as xgb\n",
    "from sklearn.model_selection import RandomizedSearchCV, GridSearchCV\n",
    "from sklearn.model_selection import cross_val_score\n",
    "\n",
    "xgb.XGBClassifier()"
   ]
  },
  {
   "cell_type": "markdown",
   "metadata": {},
   "source": [
    "## 1. Tuning Estimators"
   ]
  },
  {
   "cell_type": "code",
   "execution_count": 12,
   "metadata": {},
   "outputs": [],
   "source": [
    "# Timer Function\n",
    "\n",
    "def timer(start_time=None):\n",
    "    if not start_time:\n",
    "        start_time = datetime.now()\n",
    "        return start_time\n",
    "    elif start_time:\n",
    "        thour, temp_sec = divmod((datetime.now() - start_time).total_seconds(), 3600)\n",
    "        tmin, tsec = divmod(temp_sec, 60)\n",
    "        print('\\n Time taken: %i hours %i minutes and %s seconds.' % (thour, tmin, round(tsec, 2)))"
   ]
  },
  {
   "cell_type": "code",
   "execution_count": 13,
   "metadata": {},
   "outputs": [
    {
     "name": "stdout",
     "output_type": "stream",
     "text": [
      "Fitting 5 folds for each of 19 candidates, totalling 95 fits\n"
     ]
    },
    {
     "name": "stderr",
     "output_type": "stream",
     "text": [
      "[Parallel(n_jobs=-1)]: Using backend LokyBackend with 4 concurrent workers.\n",
      "[Parallel(n_jobs=-1)]: Done  24 tasks      | elapsed:    6.6s\n",
      "[Parallel(n_jobs=-1)]: Done  95 out of  95 | elapsed:   49.3s finished\n",
      "C:\\Users\\sebar\\Anaconda3\\lib\\site-packages\\sklearn\\model_selection\\_search.py:823: FutureWarning: The parameter 'iid' is deprecated in 0.22 and will be removed in 0.24.\n",
      "  \"removed in 0.24.\", FutureWarning\n"
     ]
    },
    {
     "name": "stdout",
     "output_type": "stream",
     "text": [
      "\n",
      " Time taken: 0 hours 0 minutes and 50.13 seconds.\n"
     ]
    }
   ],
   "source": [
    "param_test1 = {'n_estimators': range(20, 201, 10)}\n",
    "\n",
    "clf = xgb.XGBClassifier(learning_rate= 0.05, subsample= 0.8, max_depth=5, min_child_weight=1, gamma=0, colsample_bytree=0.8, random_state= 42)\n",
    "\n",
    "grid_search= GridSearchCV(clf, param_grid=param_test1, scoring='accuracy', n_jobs=-1, iid=False, cv=5, verbose=3)\n",
    "\n",
    "start_time = timer(None)\n",
    "\n",
    "grid_search.fit(X, Y);\n",
    "\n",
    "timer(start_time)"
   ]
  },
  {
   "cell_type": "code",
   "execution_count": 14,
   "metadata": {},
   "outputs": [
    {
     "data": {
      "text/plain": [
       "({'n_estimators': 110}, 0.7516890561035224)"
      ]
     },
     "execution_count": 14,
     "metadata": {},
     "output_type": "execute_result"
    }
   ],
   "source": [
    "grid_search.best_params_, grid_search.best_score_"
   ]
  },
  {
   "cell_type": "markdown",
   "metadata": {},
   "source": [
    "50 trees seems to be the ideal number of estimators for this set of parameters. Let's fix that value and tune max_depth and min_child_weight."
   ]
  },
  {
   "cell_type": "code",
   "execution_count": 15,
   "metadata": {},
   "outputs": [
    {
     "data": {
      "text/html": [
       "<div>\n",
       "<style scoped>\n",
       "    .dataframe tbody tr th:only-of-type {\n",
       "        vertical-align: middle;\n",
       "    }\n",
       "\n",
       "    .dataframe tbody tr th {\n",
       "        vertical-align: top;\n",
       "    }\n",
       "\n",
       "    .dataframe thead th {\n",
       "        text-align: right;\n",
       "    }\n",
       "</style>\n",
       "<table border=\"1\" class=\"dataframe\">\n",
       "  <thead>\n",
       "    <tr style=\"text-align: right;\">\n",
       "      <th></th>\n",
       "      <th>mean_fit_time</th>\n",
       "      <th>std_fit_time</th>\n",
       "      <th>mean_score_time</th>\n",
       "      <th>std_score_time</th>\n",
       "      <th>param_n_estimators</th>\n",
       "      <th>params</th>\n",
       "      <th>split0_test_score</th>\n",
       "      <th>split1_test_score</th>\n",
       "      <th>split2_test_score</th>\n",
       "      <th>split3_test_score</th>\n",
       "      <th>split4_test_score</th>\n",
       "      <th>mean_test_score</th>\n",
       "      <th>std_test_score</th>\n",
       "      <th>rank_test_score</th>\n",
       "    </tr>\n",
       "  </thead>\n",
       "  <tbody>\n",
       "    <tr>\n",
       "      <th>0</th>\n",
       "      <td>0.265289</td>\n",
       "      <td>0.004370</td>\n",
       "      <td>0.004787</td>\n",
       "      <td>0.000399</td>\n",
       "      <td>20</td>\n",
       "      <td>{'n_estimators': 20}</td>\n",
       "      <td>0.764417</td>\n",
       "      <td>0.732515</td>\n",
       "      <td>0.763045</td>\n",
       "      <td>0.732351</td>\n",
       "      <td>0.748312</td>\n",
       "      <td>0.748128</td>\n",
       "      <td>0.014004</td>\n",
       "      <td>17</td>\n",
       "    </tr>\n",
       "    <tr>\n",
       "      <th>1</th>\n",
       "      <td>0.375993</td>\n",
       "      <td>0.003989</td>\n",
       "      <td>0.005785</td>\n",
       "      <td>0.000399</td>\n",
       "      <td>30</td>\n",
       "      <td>{'n_estimators': 30}</td>\n",
       "      <td>0.766258</td>\n",
       "      <td>0.728834</td>\n",
       "      <td>0.761203</td>\n",
       "      <td>0.732965</td>\n",
       "      <td>0.753223</td>\n",
       "      <td>0.748497</td>\n",
       "      <td>0.015014</td>\n",
       "      <td>14</td>\n",
       "    </tr>\n",
       "    <tr>\n",
       "      <th>2</th>\n",
       "      <td>0.510034</td>\n",
       "      <td>0.029380</td>\n",
       "      <td>0.006782</td>\n",
       "      <td>0.000399</td>\n",
       "      <td>40</td>\n",
       "      <td>{'n_estimators': 40}</td>\n",
       "      <td>0.766871</td>\n",
       "      <td>0.732515</td>\n",
       "      <td>0.763659</td>\n",
       "      <td>0.731123</td>\n",
       "      <td>0.753223</td>\n",
       "      <td>0.749478</td>\n",
       "      <td>0.015115</td>\n",
       "      <td>13</td>\n",
       "    </tr>\n",
       "    <tr>\n",
       "      <th>3</th>\n",
       "      <td>0.834566</td>\n",
       "      <td>0.145142</td>\n",
       "      <td>0.008578</td>\n",
       "      <td>0.000799</td>\n",
       "      <td>50</td>\n",
       "      <td>{'n_estimators': 50}</td>\n",
       "      <td>0.769939</td>\n",
       "      <td>0.729448</td>\n",
       "      <td>0.766114</td>\n",
       "      <td>0.732965</td>\n",
       "      <td>0.753837</td>\n",
       "      <td>0.750460</td>\n",
       "      <td>0.016634</td>\n",
       "      <td>5</td>\n",
       "    </tr>\n",
       "    <tr>\n",
       "      <th>4</th>\n",
       "      <td>1.008302</td>\n",
       "      <td>0.101295</td>\n",
       "      <td>0.009973</td>\n",
       "      <td>0.001261</td>\n",
       "      <td>60</td>\n",
       "      <td>{'n_estimators': 60}</td>\n",
       "      <td>0.768098</td>\n",
       "      <td>0.725767</td>\n",
       "      <td>0.766114</td>\n",
       "      <td>0.736034</td>\n",
       "      <td>0.755678</td>\n",
       "      <td>0.750338</td>\n",
       "      <td>0.016740</td>\n",
       "      <td>6</td>\n",
       "    </tr>\n",
       "    <tr>\n",
       "      <th>5</th>\n",
       "      <td>1.357767</td>\n",
       "      <td>0.212909</td>\n",
       "      <td>0.024534</td>\n",
       "      <td>0.024337</td>\n",
       "      <td>70</td>\n",
       "      <td>{'n_estimators': 70}</td>\n",
       "      <td>0.768712</td>\n",
       "      <td>0.727607</td>\n",
       "      <td>0.767956</td>\n",
       "      <td>0.737262</td>\n",
       "      <td>0.754451</td>\n",
       "      <td>0.751198</td>\n",
       "      <td>0.016425</td>\n",
       "      <td>2</td>\n",
       "    </tr>\n",
       "    <tr>\n",
       "      <th>6</th>\n",
       "      <td>2.398581</td>\n",
       "      <td>0.121073</td>\n",
       "      <td>0.013962</td>\n",
       "      <td>0.003624</td>\n",
       "      <td>80</td>\n",
       "      <td>{'n_estimators': 80}</td>\n",
       "      <td>0.766871</td>\n",
       "      <td>0.720245</td>\n",
       "      <td>0.767342</td>\n",
       "      <td>0.738490</td>\n",
       "      <td>0.757520</td>\n",
       "      <td>0.750094</td>\n",
       "      <td>0.018219</td>\n",
       "      <td>8</td>\n",
       "    </tr>\n",
       "    <tr>\n",
       "      <th>7</th>\n",
       "      <td>1.797390</td>\n",
       "      <td>0.442989</td>\n",
       "      <td>0.011170</td>\n",
       "      <td>0.000399</td>\n",
       "      <td>90</td>\n",
       "      <td>{'n_estimators': 90}</td>\n",
       "      <td>0.770552</td>\n",
       "      <td>0.719018</td>\n",
       "      <td>0.765500</td>\n",
       "      <td>0.739104</td>\n",
       "      <td>0.754451</td>\n",
       "      <td>0.749725</td>\n",
       "      <td>0.018765</td>\n",
       "      <td>11</td>\n",
       "    </tr>\n",
       "    <tr>\n",
       "      <th>8</th>\n",
       "      <td>1.615887</td>\n",
       "      <td>0.165016</td>\n",
       "      <td>0.015559</td>\n",
       "      <td>0.006451</td>\n",
       "      <td>100</td>\n",
       "      <td>{'n_estimators': 100}</td>\n",
       "      <td>0.768098</td>\n",
       "      <td>0.719632</td>\n",
       "      <td>0.773481</td>\n",
       "      <td>0.740945</td>\n",
       "      <td>0.753223</td>\n",
       "      <td>0.751076</td>\n",
       "      <td>0.019430</td>\n",
       "      <td>3</td>\n",
       "    </tr>\n",
       "    <tr>\n",
       "      <th>9</th>\n",
       "      <td>2.152251</td>\n",
       "      <td>0.212466</td>\n",
       "      <td>0.022146</td>\n",
       "      <td>0.008260</td>\n",
       "      <td>110</td>\n",
       "      <td>{'n_estimators': 110}</td>\n",
       "      <td>0.769325</td>\n",
       "      <td>0.723313</td>\n",
       "      <td>0.771639</td>\n",
       "      <td>0.740331</td>\n",
       "      <td>0.753837</td>\n",
       "      <td>0.751689</td>\n",
       "      <td>0.018154</td>\n",
       "      <td>1</td>\n",
       "    </tr>\n",
       "    <tr>\n",
       "      <th>10</th>\n",
       "      <td>2.309235</td>\n",
       "      <td>0.100606</td>\n",
       "      <td>0.024734</td>\n",
       "      <td>0.013252</td>\n",
       "      <td>120</td>\n",
       "      <td>{'n_estimators': 120}</td>\n",
       "      <td>0.768712</td>\n",
       "      <td>0.721472</td>\n",
       "      <td>0.769797</td>\n",
       "      <td>0.739718</td>\n",
       "      <td>0.753837</td>\n",
       "      <td>0.750707</td>\n",
       "      <td>0.018297</td>\n",
       "      <td>4</td>\n",
       "    </tr>\n",
       "    <tr>\n",
       "      <th>11</th>\n",
       "      <td>2.430543</td>\n",
       "      <td>0.234546</td>\n",
       "      <td>0.020346</td>\n",
       "      <td>0.006264</td>\n",
       "      <td>130</td>\n",
       "      <td>{'n_estimators': 130}</td>\n",
       "      <td>0.767485</td>\n",
       "      <td>0.720245</td>\n",
       "      <td>0.769797</td>\n",
       "      <td>0.742173</td>\n",
       "      <td>0.750767</td>\n",
       "      <td>0.750094</td>\n",
       "      <td>0.018137</td>\n",
       "      <td>9</td>\n",
       "    </tr>\n",
       "    <tr>\n",
       "      <th>12</th>\n",
       "      <td>1.788036</td>\n",
       "      <td>0.048083</td>\n",
       "      <td>0.016955</td>\n",
       "      <td>0.001545</td>\n",
       "      <td>140</td>\n",
       "      <td>{'n_estimators': 140}</td>\n",
       "      <td>0.766871</td>\n",
       "      <td>0.722086</td>\n",
       "      <td>0.767342</td>\n",
       "      <td>0.742173</td>\n",
       "      <td>0.749540</td>\n",
       "      <td>0.749602</td>\n",
       "      <td>0.016883</td>\n",
       "      <td>12</td>\n",
       "    </tr>\n",
       "    <tr>\n",
       "      <th>13</th>\n",
       "      <td>2.164748</td>\n",
       "      <td>0.159514</td>\n",
       "      <td>0.018650</td>\n",
       "      <td>0.003728</td>\n",
       "      <td>150</td>\n",
       "      <td>{'n_estimators': 150}</td>\n",
       "      <td>0.767485</td>\n",
       "      <td>0.720245</td>\n",
       "      <td>0.767956</td>\n",
       "      <td>0.742787</td>\n",
       "      <td>0.750767</td>\n",
       "      <td>0.749848</td>\n",
       "      <td>0.017697</td>\n",
       "      <td>10</td>\n",
       "    </tr>\n",
       "    <tr>\n",
       "      <th>14</th>\n",
       "      <td>2.511891</td>\n",
       "      <td>0.095919</td>\n",
       "      <td>0.022341</td>\n",
       "      <td>0.003373</td>\n",
       "      <td>160</td>\n",
       "      <td>{'n_estimators': 160}</td>\n",
       "      <td>0.767485</td>\n",
       "      <td>0.719018</td>\n",
       "      <td>0.767342</td>\n",
       "      <td>0.744015</td>\n",
       "      <td>0.752609</td>\n",
       "      <td>0.750094</td>\n",
       "      <td>0.017938</td>\n",
       "      <td>7</td>\n",
       "    </tr>\n",
       "    <tr>\n",
       "      <th>15</th>\n",
       "      <td>2.949708</td>\n",
       "      <td>0.289648</td>\n",
       "      <td>0.044281</td>\n",
       "      <td>0.032203</td>\n",
       "      <td>170</td>\n",
       "      <td>{'n_estimators': 170}</td>\n",
       "      <td>0.766871</td>\n",
       "      <td>0.714724</td>\n",
       "      <td>0.766114</td>\n",
       "      <td>0.744015</td>\n",
       "      <td>0.750153</td>\n",
       "      <td>0.748375</td>\n",
       "      <td>0.019033</td>\n",
       "      <td>15</td>\n",
       "    </tr>\n",
       "    <tr>\n",
       "      <th>16</th>\n",
       "      <td>3.518385</td>\n",
       "      <td>0.202569</td>\n",
       "      <td>0.028923</td>\n",
       "      <td>0.005641</td>\n",
       "      <td>180</td>\n",
       "      <td>{'n_estimators': 180}</td>\n",
       "      <td>0.765644</td>\n",
       "      <td>0.716564</td>\n",
       "      <td>0.767956</td>\n",
       "      <td>0.743401</td>\n",
       "      <td>0.747698</td>\n",
       "      <td>0.748253</td>\n",
       "      <td>0.018540</td>\n",
       "      <td>16</td>\n",
       "    </tr>\n",
       "    <tr>\n",
       "      <th>17</th>\n",
       "      <td>2.853371</td>\n",
       "      <td>0.157343</td>\n",
       "      <td>0.025133</td>\n",
       "      <td>0.000747</td>\n",
       "      <td>190</td>\n",
       "      <td>{'n_estimators': 190}</td>\n",
       "      <td>0.768098</td>\n",
       "      <td>0.710429</td>\n",
       "      <td>0.765500</td>\n",
       "      <td>0.742173</td>\n",
       "      <td>0.745856</td>\n",
       "      <td>0.746411</td>\n",
       "      <td>0.020725</td>\n",
       "      <td>19</td>\n",
       "    </tr>\n",
       "    <tr>\n",
       "      <th>18</th>\n",
       "      <td>2.644846</td>\n",
       "      <td>0.322098</td>\n",
       "      <td>0.021735</td>\n",
       "      <td>0.003814</td>\n",
       "      <td>200</td>\n",
       "      <td>{'n_estimators': 200}</td>\n",
       "      <td>0.768098</td>\n",
       "      <td>0.709202</td>\n",
       "      <td>0.764886</td>\n",
       "      <td>0.744015</td>\n",
       "      <td>0.745856</td>\n",
       "      <td>0.746412</td>\n",
       "      <td>0.020987</td>\n",
       "      <td>18</td>\n",
       "    </tr>\n",
       "  </tbody>\n",
       "</table>\n",
       "</div>"
      ],
      "text/plain": [
       "    mean_fit_time  std_fit_time  mean_score_time  std_score_time  \\\n",
       "0        0.265289      0.004370         0.004787        0.000399   \n",
       "1        0.375993      0.003989         0.005785        0.000399   \n",
       "2        0.510034      0.029380         0.006782        0.000399   \n",
       "3        0.834566      0.145142         0.008578        0.000799   \n",
       "4        1.008302      0.101295         0.009973        0.001261   \n",
       "5        1.357767      0.212909         0.024534        0.024337   \n",
       "6        2.398581      0.121073         0.013962        0.003624   \n",
       "7        1.797390      0.442989         0.011170        0.000399   \n",
       "8        1.615887      0.165016         0.015559        0.006451   \n",
       "9        2.152251      0.212466         0.022146        0.008260   \n",
       "10       2.309235      0.100606         0.024734        0.013252   \n",
       "11       2.430543      0.234546         0.020346        0.006264   \n",
       "12       1.788036      0.048083         0.016955        0.001545   \n",
       "13       2.164748      0.159514         0.018650        0.003728   \n",
       "14       2.511891      0.095919         0.022341        0.003373   \n",
       "15       2.949708      0.289648         0.044281        0.032203   \n",
       "16       3.518385      0.202569         0.028923        0.005641   \n",
       "17       2.853371      0.157343         0.025133        0.000747   \n",
       "18       2.644846      0.322098         0.021735        0.003814   \n",
       "\n",
       "   param_n_estimators                 params  split0_test_score  \\\n",
       "0                  20   {'n_estimators': 20}           0.764417   \n",
       "1                  30   {'n_estimators': 30}           0.766258   \n",
       "2                  40   {'n_estimators': 40}           0.766871   \n",
       "3                  50   {'n_estimators': 50}           0.769939   \n",
       "4                  60   {'n_estimators': 60}           0.768098   \n",
       "5                  70   {'n_estimators': 70}           0.768712   \n",
       "6                  80   {'n_estimators': 80}           0.766871   \n",
       "7                  90   {'n_estimators': 90}           0.770552   \n",
       "8                 100  {'n_estimators': 100}           0.768098   \n",
       "9                 110  {'n_estimators': 110}           0.769325   \n",
       "10                120  {'n_estimators': 120}           0.768712   \n",
       "11                130  {'n_estimators': 130}           0.767485   \n",
       "12                140  {'n_estimators': 140}           0.766871   \n",
       "13                150  {'n_estimators': 150}           0.767485   \n",
       "14                160  {'n_estimators': 160}           0.767485   \n",
       "15                170  {'n_estimators': 170}           0.766871   \n",
       "16                180  {'n_estimators': 180}           0.765644   \n",
       "17                190  {'n_estimators': 190}           0.768098   \n",
       "18                200  {'n_estimators': 200}           0.768098   \n",
       "\n",
       "    split1_test_score  split2_test_score  split3_test_score  \\\n",
       "0            0.732515           0.763045           0.732351   \n",
       "1            0.728834           0.761203           0.732965   \n",
       "2            0.732515           0.763659           0.731123   \n",
       "3            0.729448           0.766114           0.732965   \n",
       "4            0.725767           0.766114           0.736034   \n",
       "5            0.727607           0.767956           0.737262   \n",
       "6            0.720245           0.767342           0.738490   \n",
       "7            0.719018           0.765500           0.739104   \n",
       "8            0.719632           0.773481           0.740945   \n",
       "9            0.723313           0.771639           0.740331   \n",
       "10           0.721472           0.769797           0.739718   \n",
       "11           0.720245           0.769797           0.742173   \n",
       "12           0.722086           0.767342           0.742173   \n",
       "13           0.720245           0.767956           0.742787   \n",
       "14           0.719018           0.767342           0.744015   \n",
       "15           0.714724           0.766114           0.744015   \n",
       "16           0.716564           0.767956           0.743401   \n",
       "17           0.710429           0.765500           0.742173   \n",
       "18           0.709202           0.764886           0.744015   \n",
       "\n",
       "    split4_test_score  mean_test_score  std_test_score  rank_test_score  \n",
       "0            0.748312         0.748128        0.014004               17  \n",
       "1            0.753223         0.748497        0.015014               14  \n",
       "2            0.753223         0.749478        0.015115               13  \n",
       "3            0.753837         0.750460        0.016634                5  \n",
       "4            0.755678         0.750338        0.016740                6  \n",
       "5            0.754451         0.751198        0.016425                2  \n",
       "6            0.757520         0.750094        0.018219                8  \n",
       "7            0.754451         0.749725        0.018765               11  \n",
       "8            0.753223         0.751076        0.019430                3  \n",
       "9            0.753837         0.751689        0.018154                1  \n",
       "10           0.753837         0.750707        0.018297                4  \n",
       "11           0.750767         0.750094        0.018137                9  \n",
       "12           0.749540         0.749602        0.016883               12  \n",
       "13           0.750767         0.749848        0.017697               10  \n",
       "14           0.752609         0.750094        0.017938                7  \n",
       "15           0.750153         0.748375        0.019033               15  \n",
       "16           0.747698         0.748253        0.018540               16  \n",
       "17           0.745856         0.746411        0.020725               19  \n",
       "18           0.745856         0.746412        0.020987               18  "
      ]
     },
     "execution_count": 15,
     "metadata": {},
     "output_type": "execute_result"
    }
   ],
   "source": [
    "pd.options.display.max_columns = 100\n",
    "pd.DataFrame(grid_search.cv_results_)"
   ]
  },
  {
   "cell_type": "markdown",
   "metadata": {},
   "source": [
    "## 2. Tuning max_depth and min_child_weight."
   ]
  },
  {
   "cell_type": "markdown",
   "metadata": {},
   "source": [
    "We tune these first as they will have the highest impact on model outcome. To start with, let’s set wider ranges and then we will perform another iteration for smaller ranges."
   ]
  },
  {
   "cell_type": "code",
   "execution_count": 16,
   "metadata": {},
   "outputs": [
    {
     "name": "stdout",
     "output_type": "stream",
     "text": [
      "Fitting 5 folds for each of 12 candidates, totalling 60 fits\n"
     ]
    },
    {
     "name": "stderr",
     "output_type": "stream",
     "text": [
      "[Parallel(n_jobs=-1)]: Using backend LokyBackend with 4 concurrent workers.\n",
      "[Parallel(n_jobs=-1)]: Done  24 tasks      | elapsed:    3.9s\n",
      "[Parallel(n_jobs=-1)]: Done  60 out of  60 | elapsed:   12.7s finished\n",
      "C:\\Users\\sebar\\Anaconda3\\lib\\site-packages\\sklearn\\model_selection\\_search.py:823: FutureWarning: The parameter 'iid' is deprecated in 0.22 and will be removed in 0.24.\n",
      "  \"removed in 0.24.\", FutureWarning\n"
     ]
    },
    {
     "name": "stdout",
     "output_type": "stream",
     "text": [
      "\n",
      " Time taken: 0 hours 0 minutes and 13.1 seconds.\n"
     ]
    }
   ],
   "source": [
    "param_test2 = {'max_depth': range(3, 10, 2), 'min_child_weight':range(1, 6, 2)}\n",
    "\n",
    "clf = xgb.XGBClassifier(n_estimators= 50, learning_rate= 0.05, subsample= 0.8, max_depth=5, min_child_weight=1, gamma=0, colsample_bytree=0.8, random_state= 42)\n",
    "\n",
    "grid_search= GridSearchCV(clf, param_grid=param_test2, scoring='accuracy', n_jobs=-1, iid=False, cv=5, verbose=3)\n",
    "\n",
    "start_time = timer(None)\n",
    "\n",
    "grid_search.fit(X, Y)\n",
    "\n",
    "timer(start_time)"
   ]
  },
  {
   "cell_type": "code",
   "execution_count": 17,
   "metadata": {},
   "outputs": [
    {
     "data": {
      "text/plain": [
       "({'max_depth': 5, 'min_child_weight': 3}, 0.7513199787592223)"
      ]
     },
     "execution_count": 17,
     "metadata": {},
     "output_type": "execute_result"
    }
   ],
   "source": [
    "grid_search.best_params_, grid_search.best_score_"
   ]
  },
  {
   "cell_type": "markdown",
   "metadata": {},
   "source": [
    "Here, we have run 12 combinations with wider intervals between values. The ideal values are 5 for max_depth and 1 for min_child_weight. Lets go one step deeper and look for optimum values. We’ll search for values 1 above and below the optimum values because we took an interval of two."
   ]
  },
  {
   "cell_type": "code",
   "execution_count": 18,
   "metadata": {},
   "outputs": [
    {
     "name": "stdout",
     "output_type": "stream",
     "text": [
      "Fitting 5 folds for each of 6 candidates, totalling 30 fits\n"
     ]
    },
    {
     "name": "stderr",
     "output_type": "stream",
     "text": [
      "[Parallel(n_jobs=-1)]: Using backend LokyBackend with 4 concurrent workers.\n",
      "[Parallel(n_jobs=-1)]: Done  30 out of  30 | elapsed:    7.2s finished\n",
      "C:\\Users\\sebar\\Anaconda3\\lib\\site-packages\\sklearn\\model_selection\\_search.py:823: FutureWarning: The parameter 'iid' is deprecated in 0.22 and will be removed in 0.24.\n",
      "  \"removed in 0.24.\", FutureWarning\n"
     ]
    },
    {
     "name": "stdout",
     "output_type": "stream",
     "text": [
      "\n",
      " Time taken: 0 hours 0 minutes and 7.95 seconds.\n"
     ]
    }
   ],
   "source": [
    "# 50 trees seems to be the ideal number of estimators for this set of parameters. Let's fix that value and tune max_depth and min_child_weight.\n",
    "\n",
    "param_test3 = {'max_depth': [4, 5, 6], 'min_child_weight': [1, 2]}\n",
    "\n",
    "clf = xgb.XGBClassifier(n_estimators= 50, learning_rate= 0.05, subsample= 0.8, max_depth=5, min_child_weight=1, gamma=0, colsample_bytree=0.8, random_state= 42)\n",
    "\n",
    "grid_search= GridSearchCV(clf, param_grid=param_test3, scoring='accuracy', n_jobs=-1, iid=False, cv=5, verbose=3)\n",
    "\n",
    "start_time = timer(None)\n",
    "\n",
    "grid_search.fit(X, Y)\n",
    "\n",
    "timer(start_time)"
   ]
  },
  {
   "cell_type": "code",
   "execution_count": 19,
   "metadata": {},
   "outputs": [
    {
     "data": {
      "text/plain": [
       "({'max_depth': 5, 'min_child_weight': 1}, 0.7504604804784447)"
      ]
     },
     "execution_count": 19,
     "metadata": {},
     "output_type": "execute_result"
    }
   ],
   "source": [
    "grid_search.best_params_, grid_search.best_score_"
   ]
  },
  {
   "cell_type": "markdown",
   "metadata": {},
   "source": [
    "It looks like the ideal max_depth value is 6. We'll stick to that. Also we can notice a slight increase in our cv score."
   ]
  },
  {
   "cell_type": "markdown",
   "metadata": {},
   "source": [
    "## 3. Tuning Gamma"
   ]
  },
  {
   "cell_type": "code",
   "execution_count": 20,
   "metadata": {},
   "outputs": [
    {
     "name": "stdout",
     "output_type": "stream",
     "text": [
      "Fitting 5 folds for each of 5 candidates, totalling 25 fits\n"
     ]
    },
    {
     "name": "stderr",
     "output_type": "stream",
     "text": [
      "[Parallel(n_jobs=-1)]: Using backend LokyBackend with 4 concurrent workers.\n",
      "[Parallel(n_jobs=-1)]: Done  25 out of  25 | elapsed:    9.1s finished\n",
      "C:\\Users\\sebar\\Anaconda3\\lib\\site-packages\\sklearn\\model_selection\\_search.py:823: FutureWarning: The parameter 'iid' is deprecated in 0.22 and will be removed in 0.24.\n",
      "  \"removed in 0.24.\", FutureWarning\n"
     ]
    },
    {
     "name": "stdout",
     "output_type": "stream",
     "text": [
      "\n",
      " Time taken: 0 hours 0 minutes and 9.69 seconds.\n"
     ]
    }
   ],
   "source": [
    "param_test4 = {\n",
    " 'gamma':[i/10.0 for i in range(0,5)]\n",
    "}\n",
    "\n",
    "clf = xgb.XGBClassifier(n_estimators= 50, learning_rate= 0.05, subsample= 0.8, max_depth=6, min_child_weight=1, gamma=0, colsample_bytree=0.8, random_state= 42)\n",
    "\n",
    "grid_search= GridSearchCV(clf, param_grid=param_test4, scoring='accuracy', n_jobs=-1, iid=False, cv=5, verbose=3)\n",
    "\n",
    "start_time = timer(None)\n",
    "\n",
    "grid_search.fit(X, Y)\n",
    "\n",
    "timer(start_time)"
   ]
  },
  {
   "cell_type": "code",
   "execution_count": 21,
   "metadata": {},
   "outputs": [
    {
     "data": {
      "text/plain": [
       "({'gamma': 0.4}, 0.7523026283579448)"
      ]
     },
     "execution_count": 21,
     "metadata": {},
     "output_type": "execute_result"
    }
   ],
   "source": [
    "grid_search.best_params_, grid_search.best_score_"
   ]
  },
  {
   "cell_type": "code",
   "execution_count": 22,
   "metadata": {},
   "outputs": [
    {
     "data": {
      "text/html": [
       "<div>\n",
       "<style scoped>\n",
       "    .dataframe tbody tr th:only-of-type {\n",
       "        vertical-align: middle;\n",
       "    }\n",
       "\n",
       "    .dataframe tbody tr th {\n",
       "        vertical-align: top;\n",
       "    }\n",
       "\n",
       "    .dataframe thead th {\n",
       "        text-align: right;\n",
       "    }\n",
       "</style>\n",
       "<table border=\"1\" class=\"dataframe\">\n",
       "  <thead>\n",
       "    <tr style=\"text-align: right;\">\n",
       "      <th></th>\n",
       "      <th>mean_fit_time</th>\n",
       "      <th>std_fit_time</th>\n",
       "      <th>mean_score_time</th>\n",
       "      <th>std_score_time</th>\n",
       "      <th>param_gamma</th>\n",
       "      <th>params</th>\n",
       "      <th>split0_test_score</th>\n",
       "      <th>split1_test_score</th>\n",
       "      <th>split2_test_score</th>\n",
       "      <th>split3_test_score</th>\n",
       "      <th>split4_test_score</th>\n",
       "      <th>mean_test_score</th>\n",
       "      <th>std_test_score</th>\n",
       "      <th>rank_test_score</th>\n",
       "    </tr>\n",
       "  </thead>\n",
       "  <tbody>\n",
       "    <tr>\n",
       "      <th>0</th>\n",
       "      <td>1.332245</td>\n",
       "      <td>0.142733</td>\n",
       "      <td>0.012368</td>\n",
       "      <td>0.002570</td>\n",
       "      <td>0</td>\n",
       "      <td>{'gamma': 0.0}</td>\n",
       "      <td>0.769939</td>\n",
       "      <td>0.726994</td>\n",
       "      <td>0.765500</td>\n",
       "      <td>0.740331</td>\n",
       "      <td>0.748312</td>\n",
       "      <td>0.750215</td>\n",
       "      <td>0.015895</td>\n",
       "      <td>5</td>\n",
       "    </tr>\n",
       "    <tr>\n",
       "      <th>1</th>\n",
       "      <td>1.583412</td>\n",
       "      <td>0.094059</td>\n",
       "      <td>0.015957</td>\n",
       "      <td>0.005390</td>\n",
       "      <td>0.1</td>\n",
       "      <td>{'gamma': 0.1}</td>\n",
       "      <td>0.765644</td>\n",
       "      <td>0.727607</td>\n",
       "      <td>0.764886</td>\n",
       "      <td>0.742173</td>\n",
       "      <td>0.751381</td>\n",
       "      <td>0.750338</td>\n",
       "      <td>0.014355</td>\n",
       "      <td>3</td>\n",
       "    </tr>\n",
       "    <tr>\n",
       "      <th>2</th>\n",
       "      <td>1.575905</td>\n",
       "      <td>0.041388</td>\n",
       "      <td>0.026927</td>\n",
       "      <td>0.009033</td>\n",
       "      <td>0.2</td>\n",
       "      <td>{'gamma': 0.2}</td>\n",
       "      <td>0.765644</td>\n",
       "      <td>0.726994</td>\n",
       "      <td>0.767342</td>\n",
       "      <td>0.742173</td>\n",
       "      <td>0.748926</td>\n",
       "      <td>0.750216</td>\n",
       "      <td>0.015079</td>\n",
       "      <td>4</td>\n",
       "    </tr>\n",
       "    <tr>\n",
       "      <th>3</th>\n",
       "      <td>1.255643</td>\n",
       "      <td>0.148962</td>\n",
       "      <td>0.012070</td>\n",
       "      <td>0.002450</td>\n",
       "      <td>0.3</td>\n",
       "      <td>{'gamma': 0.3}</td>\n",
       "      <td>0.766871</td>\n",
       "      <td>0.725767</td>\n",
       "      <td>0.769184</td>\n",
       "      <td>0.742787</td>\n",
       "      <td>0.754451</td>\n",
       "      <td>0.751812</td>\n",
       "      <td>0.016095</td>\n",
       "      <td>2</td>\n",
       "    </tr>\n",
       "    <tr>\n",
       "      <th>4</th>\n",
       "      <td>0.882975</td>\n",
       "      <td>0.082054</td>\n",
       "      <td>0.010765</td>\n",
       "      <td>0.002567</td>\n",
       "      <td>0.4</td>\n",
       "      <td>{'gamma': 0.4}</td>\n",
       "      <td>0.766871</td>\n",
       "      <td>0.728221</td>\n",
       "      <td>0.769797</td>\n",
       "      <td>0.740331</td>\n",
       "      <td>0.756292</td>\n",
       "      <td>0.752303</td>\n",
       "      <td>0.015859</td>\n",
       "      <td>1</td>\n",
       "    </tr>\n",
       "  </tbody>\n",
       "</table>\n",
       "</div>"
      ],
      "text/plain": [
       "   mean_fit_time  std_fit_time  mean_score_time  std_score_time param_gamma  \\\n",
       "0       1.332245      0.142733         0.012368        0.002570           0   \n",
       "1       1.583412      0.094059         0.015957        0.005390         0.1   \n",
       "2       1.575905      0.041388         0.026927        0.009033         0.2   \n",
       "3       1.255643      0.148962         0.012070        0.002450         0.3   \n",
       "4       0.882975      0.082054         0.010765        0.002567         0.4   \n",
       "\n",
       "           params  split0_test_score  split1_test_score  split2_test_score  \\\n",
       "0  {'gamma': 0.0}           0.769939           0.726994           0.765500   \n",
       "1  {'gamma': 0.1}           0.765644           0.727607           0.764886   \n",
       "2  {'gamma': 0.2}           0.765644           0.726994           0.767342   \n",
       "3  {'gamma': 0.3}           0.766871           0.725767           0.769184   \n",
       "4  {'gamma': 0.4}           0.766871           0.728221           0.769797   \n",
       "\n",
       "   split3_test_score  split4_test_score  mean_test_score  std_test_score  \\\n",
       "0           0.740331           0.748312         0.750215        0.015895   \n",
       "1           0.742173           0.751381         0.750338        0.014355   \n",
       "2           0.742173           0.748926         0.750216        0.015079   \n",
       "3           0.742787           0.754451         0.751812        0.016095   \n",
       "4           0.740331           0.756292         0.752303        0.015859   \n",
       "\n",
       "   rank_test_score  \n",
       "0                5  \n",
       "1                3  \n",
       "2                4  \n",
       "3                2  \n",
       "4                1  "
      ]
     },
     "execution_count": 22,
     "metadata": {},
     "output_type": "execute_result"
    }
   ],
   "source": [
    "pd.DataFrame(grid_search.cv_results_)"
   ]
  },
  {
   "cell_type": "markdown",
   "metadata": {},
   "source": [
    "This shows that our original value of gamma, i.e. 0 is the optimum one. Before proceeding, a good idea would be to re-calibrate the number of boosting rounds for the updated parameters."
   ]
  },
  {
   "cell_type": "markdown",
   "metadata": {},
   "source": [
    "## 4. Updating optimal number of estimators"
   ]
  },
  {
   "cell_type": "code",
   "execution_count": 23,
   "metadata": {},
   "outputs": [
    {
     "name": "stdout",
     "output_type": "stream",
     "text": [
      "Fitting 5 folds for each of 19 candidates, totalling 95 fits\n"
     ]
    },
    {
     "name": "stderr",
     "output_type": "stream",
     "text": [
      "[Parallel(n_jobs=-1)]: Using backend LokyBackend with 4 concurrent workers.\n",
      "[Parallel(n_jobs=-1)]: Done  24 tasks      | elapsed:    6.0s\n",
      "[Parallel(n_jobs=-1)]: Done  95 out of  95 | elapsed:   59.2s finished\n",
      "C:\\Users\\sebar\\Anaconda3\\lib\\site-packages\\sklearn\\model_selection\\_search.py:823: FutureWarning: The parameter 'iid' is deprecated in 0.22 and will be removed in 0.24.\n",
      "  \"removed in 0.24.\", FutureWarning\n"
     ]
    },
    {
     "name": "stdout",
     "output_type": "stream",
     "text": [
      "\n",
      " Time taken: 0 hours 1 minutes and 0.54 seconds.\n"
     ]
    }
   ],
   "source": [
    "param_test1 = {'n_estimators': range(20, 201, 10)}\n",
    "\n",
    "clf = xgb.XGBClassifier(learning_rate= 0.05, subsample= 0.8, max_depth=6, min_child_weight=1, gamma=0, colsample_bytree=0.8, random_state= 42)\n",
    "\n",
    "grid_search= GridSearchCV(clf, param_grid=param_test1, scoring='accuracy', n_jobs=-1, iid=False, cv=5, verbose=3)\n",
    "\n",
    "start_time = timer(None)\n",
    "\n",
    "grid_search.fit(X, Y)\n",
    "\n",
    "timer(start_time)"
   ]
  },
  {
   "cell_type": "code",
   "execution_count": 24,
   "metadata": {},
   "outputs": [
    {
     "data": {
      "text/plain": [
       "({'n_estimators': 70}, 0.7511978066260682)"
      ]
     },
     "execution_count": 24,
     "metadata": {},
     "output_type": "execute_result"
    }
   ],
   "source": [
    "grid_search.best_params_, grid_search.best_score_"
   ]
  },
  {
   "cell_type": "markdown",
   "metadata": {},
   "source": [
    "Still 50"
   ]
  },
  {
   "cell_type": "markdown",
   "metadata": {},
   "source": [
    "## 5. Tuning subsample and colsample_bytree"
   ]
  },
  {
   "cell_type": "code",
   "execution_count": 25,
   "metadata": {},
   "outputs": [
    {
     "name": "stdout",
     "output_type": "stream",
     "text": [
      "Fitting 5 folds for each of 16 candidates, totalling 80 fits\n"
     ]
    },
    {
     "name": "stderr",
     "output_type": "stream",
     "text": [
      "[Parallel(n_jobs=-1)]: Using backend LokyBackend with 4 concurrent workers.\n",
      "[Parallel(n_jobs=-1)]: Done  24 tasks      | elapsed:    7.3s\n",
      "[Parallel(n_jobs=-1)]: Done  80 out of  80 | elapsed:   28.6s finished\n",
      "C:\\Users\\sebar\\Anaconda3\\lib\\site-packages\\sklearn\\model_selection\\_search.py:823: FutureWarning: The parameter 'iid' is deprecated in 0.22 and will be removed in 0.24.\n",
      "  \"removed in 0.24.\", FutureWarning\n"
     ]
    },
    {
     "name": "stdout",
     "output_type": "stream",
     "text": [
      "\n",
      " Time taken: 0 hours 0 minutes and 29.34 seconds.\n"
     ]
    }
   ],
   "source": [
    "param_test5 = {\n",
    " 'subsample':[i/10.0 for i in range(6,10)],\n",
    " 'colsample_bytree':[i/10.0 for i in range(6,10)]\n",
    "}\n",
    "\n",
    "clf = xgb.XGBClassifier(n_estimators=50, learning_rate= 0.05, subsample= 0.8, max_depth=6, min_child_weight=1, gamma=0, colsample_bytree=0.8, random_state= 42)\n",
    "\n",
    "grid_search= GridSearchCV(clf, param_grid=param_test5, scoring='accuracy', n_jobs=-1, iid=False, cv=5, verbose=3)\n",
    "\n",
    "start_time = timer(None)\n",
    "\n",
    "grid_search.fit(X, Y)\n",
    "\n",
    "timer(start_time)"
   ]
  },
  {
   "cell_type": "code",
   "execution_count": 26,
   "metadata": {},
   "outputs": [
    {
     "data": {
      "text/plain": [
       "({'colsample_bytree': 0.9, 'subsample': 0.7}, 0.7521797783276277)"
      ]
     },
     "execution_count": 26,
     "metadata": {},
     "output_type": "execute_result"
    }
   ],
   "source": [
    "grid_search.best_params_, grid_search.best_score_"
   ]
  },
  {
   "cell_type": "markdown",
   "metadata": {},
   "source": [
    "Here, we found 0.8 as the optimum value for both subsample and colsample_bytree. Now we should try values in 0.05 interval around these."
   ]
  },
  {
   "cell_type": "code",
   "execution_count": 27,
   "metadata": {},
   "outputs": [
    {
     "name": "stdout",
     "output_type": "stream",
     "text": [
      "Fitting 5 folds for each of 9 candidates, totalling 45 fits\n"
     ]
    },
    {
     "name": "stderr",
     "output_type": "stream",
     "text": [
      "[Parallel(n_jobs=-1)]: Using backend LokyBackend with 4 concurrent workers.\n",
      "[Parallel(n_jobs=-1)]: Done  24 tasks      | elapsed:    8.6s\n",
      "[Parallel(n_jobs=-1)]: Done  45 out of  45 | elapsed:   16.9s finished\n",
      "C:\\Users\\sebar\\Anaconda3\\lib\\site-packages\\sklearn\\model_selection\\_search.py:823: FutureWarning: The parameter 'iid' is deprecated in 0.22 and will be removed in 0.24.\n",
      "  \"removed in 0.24.\", FutureWarning\n"
     ]
    },
    {
     "name": "stdout",
     "output_type": "stream",
     "text": [
      "\n",
      " Time taken: 0 hours 0 minutes and 17.57 seconds.\n"
     ]
    }
   ],
   "source": [
    "param_test6 = {\n",
    " 'subsample':[i/100.0 for i in range(75,90,5)],\n",
    " 'colsample_bytree':[i/100.0 for i in range(75,90,5)]\n",
    "}\n",
    "\n",
    "clf = xgb.XGBClassifier(n_estimators=50, learning_rate= 0.05, subsample= 0.8, max_depth=6, min_child_weight=1, gamma=0, colsample_bytree=0.8, random_state= 42)\n",
    "\n",
    "grid_search= GridSearchCV(clf, param_grid=param_test6, scoring='accuracy', n_jobs=-1, iid=False, cv=5, verbose=3)\n",
    "\n",
    "start_time = timer(None)\n",
    "\n",
    "grid_search.fit(X, Y)\n",
    "\n",
    "timer(start_time)"
   ]
  },
  {
   "cell_type": "code",
   "execution_count": 28,
   "metadata": {},
   "outputs": [
    {
     "data": {
      "text/plain": [
       "({'colsample_bytree': 0.75, 'subsample': 0.75}, 0.7516882275625455)"
      ]
     },
     "execution_count": 28,
     "metadata": {},
     "output_type": "execute_result"
    }
   ],
   "source": [
    "grid_search.best_params_, grid_search.best_score_"
   ]
  },
  {
   "cell_type": "markdown",
   "metadata": {},
   "source": [
    "Again, same values, so we'll keep those. We'll end my reducing the learning rate and testing one last time for number of estimators."
   ]
  },
  {
   "cell_type": "markdown",
   "metadata": {},
   "source": [
    "## 6. Lowering Learning Rate"
   ]
  },
  {
   "cell_type": "code",
   "execution_count": 29,
   "metadata": {},
   "outputs": [
    {
     "name": "stdout",
     "output_type": "stream",
     "text": [
      "Fitting 5 folds for each of 19 candidates, totalling 95 fits\n"
     ]
    },
    {
     "name": "stderr",
     "output_type": "stream",
     "text": [
      "[Parallel(n_jobs=-1)]: Using backend LokyBackend with 4 concurrent workers.\n",
      "[Parallel(n_jobs=-1)]: Done  24 tasks      | elapsed:    8.7s\n",
      "[Parallel(n_jobs=-1)]: Done  95 out of  95 | elapsed:   59.9s finished\n",
      "C:\\Users\\sebar\\Anaconda3\\lib\\site-packages\\sklearn\\model_selection\\_search.py:823: FutureWarning: The parameter 'iid' is deprecated in 0.22 and will be removed in 0.24.\n",
      "  \"removed in 0.24.\", FutureWarning\n"
     ]
    },
    {
     "name": "stdout",
     "output_type": "stream",
     "text": [
      "\n",
      " Time taken: 0 hours 1 minutes and 1.49 seconds.\n"
     ]
    }
   ],
   "source": [
    "param_test7 = {'n_estimators': range(20, 201, 10)}\n",
    "\n",
    "clf = xgb.XGBClassifier(learning_rate= 0.01, subsample= 0.8, max_depth=6, min_child_weight=1, gamma=0, colsample_bytree=0.8, random_state= 42)\n",
    "\n",
    "grid_search= GridSearchCV(clf, param_grid=param_test7, scoring='accuracy', n_jobs=-1, iid=False, cv=5, verbose=3)\n",
    "\n",
    "start_time = timer(None)\n",
    "\n",
    "grid_search.fit(X, Y)\n",
    "\n",
    "timer(start_time)"
   ]
  },
  {
   "cell_type": "code",
   "execution_count": 30,
   "metadata": {},
   "outputs": [
    {
     "data": {
      "text/plain": [
       "({'n_estimators': 140}, 0.7498469082240224)"
      ]
     },
     "execution_count": 30,
     "metadata": {},
     "output_type": "execute_result"
    }
   ],
   "source": [
    "grid_search.best_params_, grid_search.best_score_"
   ]
  },
  {
   "cell_type": "markdown",
   "metadata": {},
   "source": [
    "The number of trees has risen as expected and our cv score has fallen, indicating that our previous parameter setup was probably overfitting a bit. Let's get full classifier for this parameter configuration printed and run a cross-validation with it."
   ]
  },
  {
   "cell_type": "code",
   "execution_count": 31,
   "metadata": {},
   "outputs": [
    {
     "data": {
      "text/plain": [
       "XGBClassifier(base_score=0.5, booster=None, colsample_bylevel=1,\n",
       "              colsample_bynode=1, colsample_bytree=0.8, gamma=0, gpu_id=-1,\n",
       "              importance_type='gain', interaction_constraints=None,\n",
       "              learning_rate=0.01, max_delta_step=0, max_depth=6,\n",
       "              min_child_weight=1, missing=nan, monotone_constraints=None,\n",
       "              n_estimators=140, n_jobs=0, num_parallel_tree=1,\n",
       "              objective='binary:logistic', random_state=42, reg_alpha=0,\n",
       "              reg_lambda=1, scale_pos_weight=1, subsample=0.8, tree_method=None,\n",
       "              validate_parameters=False, verbosity=None)"
      ]
     },
     "execution_count": 31,
     "metadata": {},
     "output_type": "execute_result"
    }
   ],
   "source": [
    "grid_search.best_estimator_"
   ]
  },
  {
   "cell_type": "markdown",
   "metadata": {},
   "source": [
    "## 7. Running Final Cross-Validation"
   ]
  },
  {
   "cell_type": "code",
   "execution_count": 32,
   "metadata": {},
   "outputs": [],
   "source": [
    "# Missing='NaN' generates error message 'must be number, not str' when running cross val function.\n",
    "\n",
    "clf = xgb.XGBClassifier(base_score=0.5, booster=None, colsample_bylevel=1,\n",
    "              colsample_bynode=1, colsample_bytree=0.8, gamma=0, gpu_id=-1,\n",
    "              importance_type='gain', interaction_constraints=None,\n",
    "              learning_rate=0.01, max_delta_step=0, max_depth=6,\n",
    "              min_child_weight=1, missing=None, monotone_constraints=None,\n",
    "              n_estimators=150, n_jobs=0, num_parallel_tree=1,\n",
    "              objective='binary:logistic', random_state=42, reg_alpha=0,\n",
    "              reg_lambda=1, scale_pos_weight=1, subsample=0.8, tree_method=None,\n",
    "              validate_parameters=False, verbosity=None)"
   ]
  },
  {
   "cell_type": "code",
   "execution_count": 33,
   "metadata": {},
   "outputs": [],
   "source": [
    "score = cross_val_score(clf, X, Y, cv=10)"
   ]
  },
  {
   "cell_type": "code",
   "execution_count": 34,
   "metadata": {},
   "outputs": [
    {
     "data": {
      "text/plain": [
       "array([0.76441718, 0.77300613, 0.74846626, 0.71656442, 0.77668712,\n",
       "       0.77177914, 0.72760736, 0.74324324, 0.77027027, 0.73587224])"
      ]
     },
     "execution_count": 34,
     "metadata": {},
     "output_type": "execute_result"
    }
   ],
   "source": [
    "score"
   ]
  },
  {
   "cell_type": "code",
   "execution_count": 35,
   "metadata": {},
   "outputs": [
    {
     "data": {
      "text/plain": [
       "0.7527913356747712"
      ]
     },
     "execution_count": 35,
     "metadata": {},
     "output_type": "execute_result"
    }
   ],
   "source": [
    "score.mean()"
   ]
  },
  {
   "cell_type": "code",
   "execution_count": 37,
   "metadata": {},
   "outputs": [],
   "source": [
    "from sklearn.model_selection import train_test_split\n",
    "\n",
    "X_train, X_test, y_train, y_test = train_test_split(X, Y, test_size=0.2, random_state=42)"
   ]
  },
  {
   "cell_type": "code",
   "execution_count": 38,
   "metadata": {},
   "outputs": [
    {
     "data": {
      "text/plain": [
       "XGBClassifier(base_score=0.5, booster=None, colsample_bylevel=1,\n",
       "              colsample_bynode=1, colsample_bytree=0.8, gamma=0, gpu_id=-1,\n",
       "              importance_type='gain', interaction_constraints=None,\n",
       "              learning_rate=0.01, max_delta_step=0, max_depth=6,\n",
       "              min_child_weight=1, missing=nan, monotone_constraints=None,\n",
       "              n_estimators=150, n_jobs=0, num_parallel_tree=1,\n",
       "              objective='binary:logistic', random_state=42, reg_alpha=0,\n",
       "              reg_lambda=1, scale_pos_weight=1, subsample=0.8, tree_method=None,\n",
       "              validate_parameters=False, verbosity=None)"
      ]
     },
     "execution_count": 38,
     "metadata": {},
     "output_type": "execute_result"
    }
   ],
   "source": [
    "clf.fit(X_train, y_train)"
   ]
  },
  {
   "cell_type": "code",
   "execution_count": 39,
   "metadata": {},
   "outputs": [],
   "source": [
    "y_pred = clf.predict(X_test)"
   ]
  },
  {
   "cell_type": "code",
   "execution_count": 40,
   "metadata": {},
   "outputs": [],
   "source": [
    "def plot_confusion_matrix(cm, classes,normalize,\n",
    "                          title='Confusion matrix',\n",
    "                          cmap=plt.cm.Blues):\n",
    "    \"\"\"\n",
    "    This function prints and plots the confusion matrix.\n",
    "    Normalization can be applied by setting `normalize=True`.\n",
    "    \"\"\"\n",
    "    if normalize:\n",
    "        cm = cm.astype('float') / cm.sum(axis=1)[:, np.newaxis]\n",
    "        print(\"Normalized confusion matrix\")\n",
    "    else:\n",
    "        print('Confusion matrix, without normalization')\n",
    "\n",
    "    plt.imshow(cm, interpolation='nearest', cmap=cmap)\n",
    "    plt.title(title)\n",
    "    plt.colorbar()\n",
    "    tick_marks = np.arange(len(classes))\n",
    "    plt.xticks(tick_marks, classes)\n",
    "    plt.yticks(tick_marks, classes)\n",
    "    fmt = '.2f' if normalize else 'd'\n",
    "    thresh = cm.max() / 2.\n",
    "    for i, j in itertools.product(range(cm.shape[0]), range(cm.shape[1])):\n",
    "        plt.text(j, i, format(cm[i, j], fmt),\n",
    "                 horizontalalignment=\"center\", verticalalignment=\"center\",\n",
    "                 color=\"white\" if cm[i, j] > thresh else \"black\")\n",
    "    plt.ylabel('True label')\n",
    "    plt.xlabel('Predicted label')"
   ]
  },
  {
   "cell_type": "code",
   "execution_count": 41,
   "metadata": {},
   "outputs": [
    {
     "name": "stdout",
     "output_type": "stream",
     "text": [
      "Confusion matrix, without normalization\n"
     ]
    },
    {
     "data": {
      "image/png": "[encoded data removed]",
      "text/plain": [
       "<Figure size 432x288 with 2 Axes>"
      ]
     },
     "metadata": {
      "needs_background": "light"
     },
     "output_type": "display_data"
    }
   ],
   "source": [
    "cm = confusion_matrix(y_test, y_pred)\n",
    "plot_confusion_matrix(cm,[0,1],False)"
   ]
  },
  {
   "cell_type": "code",
   "execution_count": 42,
   "metadata": {},
   "outputs": [
    {
     "name": "stdout",
     "output_type": "stream",
     "text": [
      "Normalized confusion matrix\n"
     ]
    },
    {
     "data": {
      "image/png": "[encoded data removed]",
      "text/plain": [
       "<Figure size 432x288 with 2 Axes>"
      ]
     },
     "metadata": {
      "needs_background": "light"
     },
     "output_type": "display_data"
    }
   ],
   "source": [
    "plot_confusion_matrix(cm,[0,1],True)"
   ]
  },
  {
   "cell_type": "code",
   "execution_count": 43,
   "metadata": {},
   "outputs": [
    {
     "name": "stdout",
     "output_type": "stream",
     "text": [
      "Confusion matrix, without normalization\n"
     ]
    },
    {
     "data": {
      "image/png": "[encoded data removed]",
      "text/plain": [
       "<Figure size 432x288 with 2 Axes>"
      ]
     },
     "metadata": {
      "needs_background": "light"
     },
     "output_type": "display_data"
    }
   ],
   "source": [
    "cm = confusion_matrix(y_test, y_pred)\n",
    "plot_confusion_matrix(cm,[0,1],False)"
   ]
  },
  {
   "cell_type": "code",
   "execution_count": 44,
   "metadata": {},
   "outputs": [
    {
     "name": "stdout",
     "output_type": "stream",
     "text": [
      "Normalized confusion matrix\n"
     ]
    },
    {
     "data": {
      "image/png": "[encoded data removed]",
      "text/plain": [
       "<Figure size 432x288 with 2 Axes>"
      ]
     },
     "metadata": {
      "needs_background": "light"
     },
     "output_type": "display_data"
    }
   ],
   "source": [
    "plot_confusion_matrix(cm,[0,1],True)"
   ]
  },
  {
   "cell_type": "markdown",
   "metadata": {},
   "source": [
    "## Accuracy"
   ]
  },
  {
   "cell_type": "code",
   "execution_count": 45,
   "metadata": {},
   "outputs": [
    {
     "data": {
      "text/plain": [
       "0.7607361963190185"
      ]
     },
     "execution_count": 45,
     "metadata": {},
     "output_type": "execute_result"
    }
   ],
   "source": [
    "clf.score(X_test, y_test)"
   ]
  },
  {
   "cell_type": "markdown",
   "metadata": {},
   "source": [
    "## Precision"
   ]
  },
  {
   "cell_type": "code",
   "execution_count": 46,
   "metadata": {},
   "outputs": [
    {
     "data": {
      "text/plain": [
       "0.8247978436657682"
      ]
     },
     "execution_count": 46,
     "metadata": {},
     "output_type": "execute_result"
    }
   ],
   "source": [
    "precision_score(y_test,y_pred)"
   ]
  },
  {
   "cell_type": "markdown",
   "metadata": {},
   "source": [
    "## Recall"
   ]
  },
  {
   "cell_type": "code",
   "execution_count": 47,
   "metadata": {},
   "outputs": [
    {
     "data": {
      "text/plain": [
       "0.4849445324881141"
      ]
     },
     "execution_count": 47,
     "metadata": {},
     "output_type": "execute_result"
    }
   ],
   "source": [
    "recall_score(y_test,y_pred)"
   ]
  },
  {
   "cell_type": "markdown",
   "metadata": {},
   "source": [
    "## Feature Importances"
   ]
  },
  {
   "cell_type": "code",
   "execution_count": 48,
   "metadata": {},
   "outputs": [
    {
     "data": {
      "image/png": "[encoded data removed]",
      "text/plain": [
       "<Figure size 432x288 with 1 Axes>"
      ]
     },
     "metadata": {
      "needs_background": "light"
     },
     "output_type": "display_data"
    }
   ],
   "source": [
    "feature_importance = clf.feature_importances_\n",
    "\n",
    "# Make importances relative to max importance.\n",
    "feature_importance = 100.0 * (feature_importance / feature_importance.max())\n",
    "sorted_idx = np.argsort(feature_importance)\n",
    "pos = np.arange(sorted_idx.shape[0]) + .5\n",
    "plt.subplot(1, 2, 2)\n",
    "plt.barh(pos, feature_importance[sorted_idx], align='center')\n",
    "plt.yticks(pos, X.columns[sorted_idx])\n",
    "plt.xlabel('Relative Importance')\n",
    "plt.title('Variable Importance')\n",
    "plt.show()"
   ]
  }
 ],
 "metadata": {
  "kernelspec": {
   "display_name": "Python 3",
   "language": "python",
   "name": "python3"
  },
  "language_info": {
   "codemirror_mode": {
    "name": "ipython",
    "version": 3
   },
   "file_extension": ".py",
   "mimetype": "text/x-python",
   "name": "python",
   "nbconvert_exporter": "python",
   "pygments_lexer": "ipython3",
   "version": "3.7.3"
  }
 },
 "nbformat": 4,
 "nbformat_minor": 2
}
